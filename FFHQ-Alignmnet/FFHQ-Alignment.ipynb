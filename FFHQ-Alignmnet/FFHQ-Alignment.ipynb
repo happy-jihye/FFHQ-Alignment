{
 "cells": [
  {
   "cell_type": "markdown",
   "source": [
    "## FFHQ Face Image Alignment\n",
    "\n",
    "- [`Happy-jihye`](https://github.com/happy-jihye)\n",
    "- **landmark detector** : [`1adrianb/face-alignment`](https://github.com/1adrianb/face-alignment)\n",
    "  - `pip install face-alignment`\n",
    "- **FFHQ alignment** : [NVlabs/ffhq-dataset](https://github.com/NVlabs/ffhq-dataset/blob/master/download_ffhq.py)\n",
    "  "
   ],
   "metadata": {
    "id": "qJGZfGf3NN-u"
   }
  },
  {
   "cell_type": "code",
   "execution_count": 1,
   "source": [
    "import sys\n",
    "import os\n",
    "\n",
    "import numpy as np\n",
    "import scipy.ndimage\n",
    "import PIL.Image\n",
    "import face_alignment"
   ],
   "outputs": [],
   "metadata": {}
  },
  {
   "cell_type": "code",
   "execution_count": 2,
   "source": [
    "\n",
    "def image_align(src_file, dst_file, face_landmarks, output_size=256, transform_size=1024, enable_padding=True):\n",
    "        # Align function from FFHQ dataset pre-processing step\n",
    "        # https://github.com/NVlabs/ffhq-dataset/blob/master/download_ffhq.py\n",
    "\n",
    "        lm = np.array(face_landmarks)\n",
    "        lm_chin          = lm[0  : 17, :2]  # left-right\n",
    "        lm_eyebrow_left  = lm[17 : 22, :2]  # left-right\n",
    "        lm_eyebrow_right = lm[22 : 27, :2]  # left-right\n",
    "        lm_nose          = lm[27 : 31, :2]  # top-down\n",
    "        lm_nostrils      = lm[31 : 36, :2]  # top-down\n",
    "        lm_eye_left      = lm[36 : 42, :2]  # left-clockwise\n",
    "        lm_eye_right     = lm[42 : 48, :2]  # left-clockwise\n",
    "        lm_mouth_outer   = lm[48 : 60, :2]  # left-clockwise\n",
    "        lm_mouth_inner   = lm[60 : 68, :2]  # left-clockwise\n",
    "\n",
    "        # Calculate auxiliary vectors.\n",
    "        eye_left     = np.mean(lm_eye_left, axis=0)\n",
    "        eye_right    = np.mean(lm_eye_right, axis=0)\n",
    "        eye_avg      = (eye_left + eye_right) * 0.5\n",
    "        eye_to_eye   = eye_right - eye_left\n",
    "        mouth_left   = lm_mouth_outer[0]\n",
    "        mouth_right  = lm_mouth_outer[6]\n",
    "        mouth_avg    = (mouth_left + mouth_right) * 0.5\n",
    "        eye_to_mouth = mouth_avg - eye_avg\n",
    "\n",
    "        # Choose oriented crop rectangle.\n",
    "        x = eye_to_eye - np.flipud(eye_to_mouth) * [-1, 1]\n",
    "        x /= np.hypot(*x)\n",
    "        x *= max(np.hypot(*eye_to_eye) * 2.0, np.hypot(*eye_to_mouth) * 1.8)\n",
    "        y = np.flipud(x) * [-1, 1]\n",
    "        c = eye_avg + eye_to_mouth * 0.1\n",
    "        quad = np.stack([c - x - y, c - x + y, c + x + y, c + x - y])\n",
    "        qsize = np.hypot(*x) * 2\n",
    "\n",
    "        # Load in-the-wild image.\n",
    "        if not os.path.isfile(src_file):\n",
    "            print('\\nCannot find source image. Please run \"--wilds\" before \"--align\".')\n",
    "            return\n",
    "        img = PIL.Image.open(src_file)\n",
    "\n",
    "        # Shrink.\n",
    "        shrink = int(np.floor(qsize / output_size * 0.5))\n",
    "        if shrink > 1:\n",
    "            rsize = (int(np.rint(float(img.size[0]) / shrink)), int(np.rint(float(img.size[1]) / shrink)))\n",
    "            img = img.resize(rsize, PIL.Image.ANTIALIAS)\n",
    "            quad /= shrink\n",
    "            qsize /= shrink\n",
    "\n",
    "        # Crop.\n",
    "        border = max(int(np.rint(qsize * 0.1)), 3)\n",
    "        crop = (int(np.floor(min(quad[:,0]))), int(np.floor(min(quad[:,1]))), int(np.ceil(max(quad[:,0]))), int(np.ceil(max(quad[:,1]))))\n",
    "        crop = (max(crop[0] - border, 0), max(crop[1] - border, 0), min(crop[2] + border, img.size[0]), min(crop[3] + border, img.size[1]))\n",
    "        if crop[2] - crop[0] < img.size[0] or crop[3] - crop[1] < img.size[1]:\n",
    "            img = img.crop(crop)\n",
    "            quad -= crop[0:2]\n",
    "\n",
    "        # Pad.\n",
    "        pad = (int(np.floor(min(quad[:,0]))), int(np.floor(min(quad[:,1]))), int(np.ceil(max(quad[:,0]))), int(np.ceil(max(quad[:,1]))))\n",
    "        pad = (max(-pad[0] + border, 0), max(-pad[1] + border, 0), max(pad[2] - img.size[0] + border, 0), max(pad[3] - img.size[1] + border, 0))\n",
    "        if enable_padding and max(pad) > border - 4:\n",
    "            pad = np.maximum(pad, int(np.rint(qsize * 0.3)))\n",
    "            img = np.pad(np.float32(img), ((pad[1], pad[3]), (pad[0], pad[2]), (0, 0)), 'reflect')\n",
    "            h, w, _ = img.shape\n",
    "            y, x, _ = np.ogrid[:h, :w, :1]\n",
    "            mask = np.maximum(1.0 - np.minimum(np.float32(x) / pad[0], np.float32(w-1-x) / pad[2]), 1.0 - np.minimum(np.float32(y) / pad[1], np.float32(h-1-y) / pad[3]))\n",
    "            blur = qsize * 0.02\n",
    "            img += (scipy.ndimage.gaussian_filter(img, [blur, blur, 0]) - img) * np.clip(mask * 3.0 + 1.0, 0.0, 1.0)\n",
    "            img += (np.median(img, axis=(0,1)) - img) * np.clip(mask, 0.0, 1.0)\n",
    "            img = PIL.Image.fromarray(np.uint8(np.clip(np.rint(img), 0, 255)), 'RGB')\n",
    "            quad += pad[:2]\n",
    "\n",
    "        # Transform.\n",
    "        img = img.transform((transform_size, transform_size), PIL.Image.QUAD, (quad + 0.5).flatten(), PIL.Image.BILINEAR)\n",
    "        if output_size < transform_size:\n",
    "            img = img.resize((output_size, output_size), PIL.Image.ANTIALIAS)\n",
    "\n",
    "        # Save aligned image.\n",
    "        img.save(dst_file, 'PNG')"
   ],
   "outputs": [],
   "metadata": {
    "id": "AJuy-B5kEGiK"
   }
  },
  {
   "cell_type": "markdown",
   "source": [
    "### <b>Image Alignment</b>"
   ],
   "metadata": {
    "id": "9M-j-59NNuh1"
   }
  },
  {
   "cell_type": "code",
   "execution_count": 5,
   "source": [
    "\n",
    "RAW_IMAGES_DIR = './raw_images'\n",
    "ALIGNED_IMAGES_DIR = './aligned_images'\n",
    "\n",
    "if not os.path.exists(ALIGNED_IMAGES_DIR):\n",
    "    os.makedirs(ALIGNED_IMAGES_DIR)\n",
    "\n",
    "landmarks_detector = face_alignment.FaceAlignment(face_alignment.LandmarksType._3D, flip_input=False)\n",
    "\n",
    "for img_name in os.listdir(RAW_IMAGES_DIR):\n",
    "    raw_img_path = os.path.join(RAW_IMAGES_DIR, img_name)\n",
    "\n",
    "    for i, face_landmarks in enumerate(landmarks_detector.get_landmarks(raw_img_path), start=1):\n",
    " \n",
    "        aligned_face_path = os.path.join(ALIGNED_IMAGES_DIR, f'align-{img_name}')\n",
    "\n",
    "        image_align(raw_img_path, aligned_face_path, face_landmarks)"
   ],
   "outputs": [],
   "metadata": {}
  }
 ],
 "metadata": {
  "accelerator": "GPU",
  "colab": {
   "authorship_tag": "ABX9TyPWWhR+nzwazNEMYQ629vkX",
   "collapsed_sections": [],
   "include_colab_link": true,
   "name": "Face Image Alignment",
   "provenance": []
  },
  "kernelspec": {
   "name": "python3",
   "display_name": "Python 3.6.9 64-bit"
  },
  "language_info": {
   "name": "python",
   "version": "3.6.9",
   "mimetype": "text/x-python",
   "codemirror_mode": {
    "name": "ipython",
    "version": 3
   },
   "pygments_lexer": "ipython3",
   "nbconvert_exporter": "python",
   "file_extension": ".py"
  },
  "interpreter": {
   "hash": "31f2aee4e71d21fbe5cf8b01ff0e069b9275f58929596ceb00d14d90e3e16cd6"
  }
 },
 "nbformat": 4,
 "nbformat_minor": 1
}